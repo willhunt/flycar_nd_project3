{
 "cells": [
  {
   "cell_type": "code",
   "execution_count": 1,
   "metadata": {},
   "outputs": [],
   "source": [
    "#include <iostream>\n",
    "\n",
    "float yawCmd;\n",
    "float yaw;\n",
    "float delta_yaw;\n",
    "float F_PI = (float)M_PI;"
   ]
  },
  {
   "cell_type": "code",
   "execution_count": 26,
   "metadata": {},
   "outputs": [],
   "source": [
    "yawCmd = -0.5 * F_PI;\n",
    "yaw = -3 * F_PI;\n",
    "\n",
    "\n",
    "if (yawCmd < 0) {  // Convert -ve angle to +ve between 0 & 2pi\n",
    "    yawCmd  = fmodf(-yawCmd, 2 * F_PI);\n",
    "    yawCmd = 2*F_PI - yawCmd;\n",
    "} else {  // Constrain +ve inputs to -0 & 2pi\n",
    "    yawCmd  = fmodf(yawCmd, 2 * F_PI);\n",
    "}\n",
    "if (yaw < 0) {\n",
    "    yaw  = fmodf(-yaw, 2 * F_PI);\n",
    "    yaw = 2 * F_PI - yaw;\n",
    "} else {\n",
    "    yaw  = fmodf(yaw, 2 * F_PI);\n",
    "}\n",
    "// If angle difference is greater than pi then go in the other direction (short way round)\n",
    "delta_yaw = yawCmd - yaw;\n",
    "if (delta_yaw > F_PI) {\n",
    "    delta_yaw -= F_PI;\n",
    "} else if (delta_yaw < -F_PI) {\n",
    "    delta_yaw += 2 * F_PI;\n",
    "}"
   ]
  },
  {
   "cell_type": "code",
   "execution_count": 27,
   "metadata": {},
   "outputs": [
    {
     "name": "stdout",
     "output_type": "stream",
     "text": [
      "1.5 pi\n",
      "1 pi\n"
     ]
    }
   ],
   "source": [
    "std::cout << yawCmd / F_PI << \" pi\" << std::endl;\n",
    "std::cout << yaw / F_PI << \" pi\" << std::endl;"
   ]
  },
  {
   "cell_type": "code",
   "execution_count": 28,
   "metadata": {},
   "outputs": [
    {
     "name": "stdout",
     "output_type": "stream",
     "text": [
      "3.14159\n",
      "6.28319\n",
      "0.5\n",
      "3.14159\n"
     ]
    }
   ],
   "source": [
    "std::cout << F_PI << std::endl;\n",
    "std::cout << 2*F_PI << std::endl;\n",
    "std::cout << F_PI / (2*F_PI)  << std::endl;\n",
    "std::cout << fmodf(F_PI, 2*F_PI)  << std::endl;"
   ]
  },
  {
   "cell_type": "code",
   "execution_count": 29,
   "metadata": {},
   "outputs": [
    {
     "name": "stdout",
     "output_type": "stream",
     "text": [
      "0.5\n"
     ]
    }
   ],
   "source": [
    "std::cout << delta_yaw / F_PI << std::endl;"
   ]
  },
  {
   "cell_type": "code",
   "execution_count": null,
   "metadata": {},
   "outputs": [],
   "source": []
  }
 ],
 "metadata": {
  "kernelspec": {
   "display_name": "C++17",
   "language": "C++17",
   "name": "xeus-cling-cpp17"
  },
  "language_info": {
   "codemirror_mode": "text/x-c++src",
   "file_extension": ".cpp",
   "mimetype": "text/x-c++src",
   "name": "c++",
   "version": "-std=c++17"
  }
 },
 "nbformat": 4,
 "nbformat_minor": 4
}
