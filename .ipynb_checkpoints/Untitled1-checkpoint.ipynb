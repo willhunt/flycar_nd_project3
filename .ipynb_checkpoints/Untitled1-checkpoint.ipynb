{
 "cells": [
  {
   "cell_type": "code",
   "execution_count": 6,
   "metadata": {},
   "outputs": [],
   "source": [
    "#include <iostream>\n",
    "\n",
    "float yawCmd;\n",
    "float yaw;\n",
    "float delta_yaw;"
   ]
  },
  {
   "cell_type": "code",
   "execution_count": 14,
   "metadata": {},
   "outputs": [],
   "source": [
    "float F_PI = (float)M_PI;\n",
    "\n",
    "yawCmd = -1 * F_PI;\n",
    "yaw = 1 * F_PI;\n",
    "\n",
    "\n",
    "if (yawCmd < 0) {  // Convert -ve angle to +ve between 0 & 2pi\n",
    "    yawCmd  = fmodf(-yawCmd, 2 * F_PI);\n",
    "    yawCmd = (float)M_2_PI - yawCmd;\n",
    "} else {  // Constrain +ve inputs to -0 & 2pi\n",
    "    yawCmd  = fmodf(yawCmd, 2 * F_PI);\n",
    "}\n",
    "if (yaw < 0) {\n",
    "    yaw  = fmodf(-yaw, 2 * F_PI);\n",
    "    yaw = 2 * F_PI - yaw;\n",
    "} else {\n",
    "    yaw  = fmodf(yaw, 2 * F_PI);\n",
    "}\n",
    "// If angle difference is greater than pi then go in the other direction (short way round)\n",
    "float delta_yaw = yawCmd - yaw;\n",
    "if (delta_yaw > F_PI) {\n",
    "    delta_yaw -= F_PI;\n",
    "} else if (delta_yaw < -F_PI) {\n",
    "    delta_yaw += 2 * F_PI;\n",
    "}"
   ]
  },
  {
   "cell_type": "code",
   "execution_count": 16,
   "metadata": {},
   "outputs": [
    {
     "name": "stdout",
     "output_type": "stream",
     "text": [
      "0.0132118 pi\n",
      "0.189431 pi\n"
     ]
    }
   ],
   "source": [
    "std::cout << yawCmd / (float)M_PI << \" pi\" << std::endl;\n",
    "std::cout << yaw / (float)M_PI << \" pi\" << std::endl;"
   ]
  },
  {
   "cell_type": "code",
   "execution_count": 28,
   "metadata": {},
   "outputs": [
    {
     "name": "stdout",
     "output_type": "stream",
     "text": [
      "3.14159\n",
      "0.63662\n",
      "4.9348\n",
      "0.595114\n"
     ]
    }
   ],
   "source": [
    "std::cout << float(M_PI) << std::endl;\n",
    "std::cout << float(M_2_PI) << std::endl;\n",
    "std::cout << float(M_PI) / float(M_2_PI)  << std::endl;\n",
    "std::cout << fmodf((float(M_PI)), (float)M_2_PI)  << std::endl;"
   ]
  }
 ],
 "metadata": {
  "kernelspec": {
   "display_name": "C++17",
   "language": "C++17",
   "name": "xeus-cling-cpp17"
  },
  "language_info": {
   "codemirror_mode": "text/x-c++src",
   "file_extension": ".cpp",
   "mimetype": "text/x-c++src",
   "name": "c++",
   "version": "-std=c++17"
  }
 },
 "nbformat": 4,
 "nbformat_minor": 4
}
